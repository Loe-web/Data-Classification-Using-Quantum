{
 "cells": [
  {
   "cell_type": "markdown",
   "id": "29664c9a",
   "metadata": {},
   "source": [
    "# BUILDING A QUANTUM CLASSIFIER\n",
    "\n",
    "In this notebook we build a quantum neural network classifier on health care and heart disease datasets. \n",
    "\n",
    "\n",
    "## Background\n",
    "Classification is a form of machine learning in which labels are assigned to data, often with respect to other data. Often we classify new data based on already classified (learned) data."
    "\n",
    "The idea of using quantum mechanics in machine learning was first proposed in 1995 by Subhash Kak and Ron Chrisley independently. Since then much of the current research has been using classical neural networks and applying quantum computing techniques to find more efficient algorithms. \n",
    "It’s important to note that quantum machine learning is in its early stages, and this blog does not discuss, or claim to have found, any advantages in using these methods over classical machine learning methods. However, it was an exciting way to get started experimenting with this field:) and dive even deeper than we did!\n",
    "\n",
    "\n",
    "## Abstract\n",
    "My reasoning for tackling this challenge is to explores the viability of performing machine learning through quantum circuit construction by constructing an experiment that produces fractional correct classifications on real data (understanding how well quantum machine learning may perform on classical health and healthcare datasets). I used qiskit and scikit-learn to compare a classical and quantum SVC (support vector classifier). I acheived a performance of 1.0(if the testing accuracy output is 1.0 means that our QSVC is 100% accurate) on the quantum model compared to 0.5 on the classical model, demonstrating that using ___Quantum___ Suppport Vector Machine(QSVM) was useful in making the quantum model outperform the classical model.\n",
   ]
  },
  {
   "cell_type": "code",
   "execution_count": 1,
   "id": "55c69ba5-1e9d-4294-8da4-6ed119ccc3a0",
   "metadata": {},
   "outputs": [
    {
     "name": "stdout",
     "output_type": "stream",
     "text": [
      "Requirement already satisfied: tensorflow in /opt/conda/lib/python3.9/site-packages (2.9.1)\n",
      "Requirement already satisfied: six>=1.12.0 in /opt/conda/lib/python3.9/site-packages (from tensorflow) (1.16.0)\n",
      "Requirement already satisfied: absl-py>=1.0.0 in /opt/conda/lib/python3.9/site-packages (from tensorflow) (1.2.0)\n",
      "Requirement already satisfied: astunparse>=1.6.0 in /opt/conda/lib/python3.9/site-packages (from tensorflow) (1.6.3)\n",
      "Requirement already satisfied: numpy>=1.20 in /opt/conda/lib/python3.9/site-packages (from tensorflow) (1.23.1)\n",
      "Requirement already satisfied: termcolor>=1.1.0 in /opt/conda/lib/python3.9/site-packages (from tensorflow) (1.1.0)\n",
      "Requirement already satisfied: typing-extensions>=3.6.6 in /opt/conda/lib/python3.9/site-packages (from tensorflow) (4.3.0)\n",
      "Requirement already satisfied: packaging in /opt/conda/lib/python3.9/site-packages (from tensorflow) (21.3)\n",
      "Requirement already satisfied: protobuf<3.20,>=3.9.2 in /opt/conda/lib/python3.9/site-packages (from tensorflow) (3.19.4)\n",
      "Requirement already satisfied: h5py>=2.9.0 in /opt/conda/lib/python3.9/site-packages (from tensorflow) (3.7.0)\n",
      "Requirement already satisfied: tensorflow-io-gcs-filesystem>=0.23.1 in /opt/conda/lib/python3.9/site-packages (from tensorflow) (0.26.0)\n",
      "Requirement already satisfied: grpcio<2.0,>=1.24.3 in /opt/conda/lib/python3.9/site-packages (from tensorflow) (1.47.0)\n",
      "Requirement already satisfied: flatbuffers<2,>=1.12 in /opt/conda/lib/python3.9/site-packages (from tensorflow) (1.12)\n",
      "Requirement already satisfied: gast<=0.4.0,>=0.2.1 in /opt/conda/lib/python3.9/site-packages (from tensorflow) (0.4.0)\n",
      "Requirement already satisfied: setuptools in /opt/conda/lib/python3.9/site-packages (from tensorflow) (60.9.3)\n",
      "Requirement already satisfied: keras-preprocessing>=1.1.1 in /opt/conda/lib/python3.9/site-packages (from tensorflow) (1.1.2)\n",
      "Requirement already satisfied: libclang>=13.0.0 in /opt/conda/lib/python3.9/site-packages (from tensorflow) (14.0.6)\n",
      "Requirement already satisfied: tensorflow-estimator<2.10.0,>=2.9.0rc0 in /opt/conda/lib/python3.9/site-packages (from tensorflow) (2.9.0)\n",
      "Requirement already satisfied: keras<2.10.0,>=2.9.0rc0 in /opt/conda/lib/python3.9/site-packages (from tensorflow) (2.9.0)\n",
      "Requirement already satisfied: wrapt>=1.11.0 in /opt/conda/lib/python3.9/site-packages (from tensorflow) (1.14.1)\n",
      "Requirement already satisfied: opt-einsum>=2.3.2 in /opt/conda/lib/python3.9/site-packages (from tensorflow) (3.3.0)\n",
      "Requirement already satisfied: google-pasta>=0.1.1 in /opt/conda/lib/python3.9/site-packages (from tensorflow) (0.2.0)\n",
      "Requirement already satisfied: tensorboard<2.10,>=2.9 in /opt/conda/lib/python3.9/site-packages (from tensorflow) (2.9.1)\n",
      "Requirement already satisfied: wheel<1.0,>=0.23.0 in /opt/conda/lib/python3.9/site-packages (from astunparse>=1.6.0->tensorflow) (0.37.1)\n",
      "Requirement already satisfied: google-auth-oauthlib<0.5,>=0.4.1 in /opt/conda/lib/python3.9/site-packages (from tensorboard<2.10,>=2.9->tensorflow) (0.4.6)\n",
      "Requirement already satisfied: markdown>=2.6.8 in /opt/conda/lib/python3.9/site-packages (from tensorboard<2.10,>=2.9->tensorflow) (3.4.1)\n",
      "Requirement already satisfied: werkzeug>=1.0.1 in /opt/conda/lib/python3.9/site-packages (from tensorboard<2.10,>=2.9->tensorflow) (2.2.1)\n",
      "Requirement already satisfied: tensorboard-data-server<0.7.0,>=0.6.0 in /opt/conda/lib/python3.9/site-packages (from tensorboard<2.10,>=2.9->tensorflow) (0.6.1)\n",
      "Requirement already satisfied: tensorboard-plugin-wit>=1.6.0 in /opt/conda/lib/python3.9/site-packages (from tensorboard<2.10,>=2.9->tensorflow) (1.8.1)\n",
      "Requirement already satisfied: google-auth<3,>=1.6.3 in /opt/conda/lib/python3.9/site-packages (from tensorboard<2.10,>=2.9->tensorflow) (2.9.1)\n",
      "Requirement already satisfied: requests<3,>=2.21.0 in /opt/conda/lib/python3.9/site-packages (from tensorboard<2.10,>=2.9->tensorflow) (2.27.1)\n",
      "Requirement already satisfied: pyparsing!=3.0.5,>=2.0.2 in /opt/conda/lib/python3.9/site-packages (from packaging->tensorflow) (3.0.7)\n",
      "Requirement already satisfied: rsa<5,>=3.1.4 in /opt/conda/lib/python3.9/site-packages (from google-auth<3,>=1.6.3->tensorboard<2.10,>=2.9->tensorflow) (4.7.2)\n",
      "Requirement already satisfied: cachetools<6.0,>=2.0.0 in /opt/conda/lib/python3.9/site-packages (from google-auth<3,>=1.6.3->tensorboard<2.10,>=2.9->tensorflow) (5.2.0)\n",
      "Requirement already satisfied: pyasn1-modules>=0.2.1 in /opt/conda/lib/python3.9/site-packages (from google-auth<3,>=1.6.3->tensorboard<2.10,>=2.9->tensorflow) (0.2.8)\n",
      "Requirement already satisfied: requests-oauthlib>=0.7.0 in /opt/conda/lib/python3.9/site-packages (from google-auth-oauthlib<0.5,>=0.4.1->tensorboard<2.10,>=2.9->tensorflow) (1.3.1)\n",
      "Requirement already satisfied: importlib-metadata>=4.4 in /opt/conda/lib/python3.9/site-packages (from markdown>=2.6.8->tensorboard<2.10,>=2.9->tensorflow) (4.11.3)\n",
      "Requirement already satisfied: idna<4,>=2.5 in /opt/conda/lib/python3.9/site-packages (from requests<3,>=2.21.0->tensorboard<2.10,>=2.9->tensorflow) (3.3)\n",
      "Requirement already satisfied: charset-normalizer~=2.0.0 in /opt/conda/lib/python3.9/site-packages (from requests<3,>=2.21.0->tensorboard<2.10,>=2.9->tensorflow) (2.0.12)\n",
      "Requirement already satisfied: certifi>=2017.4.17 in /opt/conda/lib/python3.9/site-packages (from requests<3,>=2.21.0->tensorboard<2.10,>=2.9->tensorflow) (2021.10.8)\n",
      "Requirement already satisfied: urllib3<1.27,>=1.21.1 in /opt/conda/lib/python3.9/site-packages (from requests<3,>=2.21.0->tensorboard<2.10,>=2.9->tensorflow) (1.26.8)\n",
      "Requirement already satisfied: MarkupSafe>=2.1.1 in /opt/conda/lib/python3.9/site-packages (from werkzeug>=1.0.1->tensorboard<2.10,>=2.9->tensorflow) (2.1.1)\n",
      "Requirement already satisfied: zipp>=0.5 in /opt/conda/lib/python3.9/site-packages (from importlib-metadata>=4.4->markdown>=2.6.8->tensorboard<2.10,>=2.9->tensorflow) (3.7.0)\n",
      "Requirement already satisfied: pyasn1<0.5.0,>=0.4.6 in /opt/conda/lib/python3.9/site-packages (from pyasn1-modules>=0.2.1->google-auth<3,>=1.6.3->tensorboard<2.10,>=2.9->tensorflow) (0.4.8)\n",
      "Requirement already satisfied: oauthlib>=3.0.0 in /opt/conda/lib/python3.9/site-packages (from requests-oauthlib>=0.7.0->google-auth-oauthlib<0.5,>=0.4.1->tensorboard<2.10,>=2.9->tensorflow) (3.2.0)\n",
      "\n",
      "\u001b[1m[\u001b[0m\u001b[34;49mnotice\u001b[0m\u001b[1;39;49m]\u001b[0m\u001b[39;49m A new release of pip available: \u001b[0m\u001b[31;49m22.1.2\u001b[0m\u001b[39;49m -> \u001b[0m\u001b[32;49m22.2.2\u001b[0m\n",
      "\u001b[1m[\u001b[0m\u001b[34;49mnotice\u001b[0m\u001b[1;39;49m]\u001b[0m\u001b[39;49m To update, run: \u001b[0m\u001b[32;49mpip install --upgrade pip\u001b[0m\n"
     ]
    }
   ],
   "source": [
    "!pip install tensorflow"
   ]
  },
  {
   "cell_type": "code",
   "execution_count": 2,
   "id": "05e623df",
   "metadata": {},
   "outputs": [],
   "source": [
    "#!pip install --upgrade seaborn\n",
    "#!pip install --upgrade scikit-learn\n",
    "#!pip install --upgrade matplotlib\n",
    "#!pip install --upgrade pandas\n",
    "#!pip install --upgrade qiskit\n",
    "#!pip install qiskit[machine-learning]\n",
    "import numpy as np\n",
    "%matplotlib inline\n",
    "import matplotlib.pyplot as plt\n",
    "import seaborn as sns\n",
    "import pandas as pd\n",
    "from sklearn.decomposition import TruncatedSVD\n",
    "from sklearn.manifold import TSNE\n",
    "from qiskit import *\n",
    "from matplotlib.colors import ListedColormap\n",
    "from sklearn.preprocessing import StandardScaler, MinMaxScaler\n",
    "from sklearn.model_selection import train_test_split, GridSearchCV\n",
    "from sklearn.metrics import accuracy_score, confusion_matrix\n",
    "from sklearn.svm import SVC\n",
    "from sklearn.neighbors import KNeighborsClassifier, NeighborhoodComponentsAnalysis, LocalOutlierFactor\n",
    "from sklearn.decomposition import PCA\n",
    "from sklearn.ensemble import AdaBoostClassifier, GradientBoostingClassifier,RandomForestClassifier\n",
    "import time\n",
    "from qiskit import Aer, QuantumCircuit\n",
    "from qiskit.opflow import Z, I, StateFn\n",
    "from qiskit.utils import QuantumInstance, algorithm_globals\n",
    "from qiskit.circuit import Parameter\n",
    "from qiskit.circuit.library import PauliFeatureMap, ZFeatureMap, ZZFeatureMap\n",
    "from qiskit.circuit.library import TwoLocal, NLocal, RealAmplitudes, EfficientSU2\n",
    "from qiskit.circuit.library import HGate, RXGate, RYGate, RZGate, CXGate, CRXGate, CRZGate\n",
    "from qiskit.algorithms.optimizers import COBYLA, L_BFGS_B\n",
    "from qiskit.quantum_info import Statevector\n",
    "from qiskit_machine_learning.kernels import QuantumKernel\n",
    "from qiskit_machine_learning.algorithms import QSVC\n",
    "# General Imports\n",
    "import numpy as np\n",
    "\n",
    "# Visualisation Imports\n",
    "import matplotlib.pyplot as plt\n",
    "\n",
    "# Scikit Imports\n",
    "from sklearn import datasets\n",
    "from sklearn.model_selection import train_test_split\n",
    "from sklearn.svm import SVC\n",
    "from sklearn.decomposition import PCA\n",
    "from sklearn.preprocessing import StandardScaler, MinMaxScaler\n",
    "\n",
    "# Qiskit Imports\n",
    "from qiskit import Aer, execute\n",
    "from qiskit.circuit import QuantumCircuit, Parameter, ParameterVector\n",
    "from qiskit.circuit.library import PauliFeatureMap, ZFeatureMap, ZZFeatureMap\n",
    "from qiskit.circuit.library import TwoLocal, NLocal, RealAmplitudes, EfficientSU2\n",
    "from qiskit.circuit.library import HGate, RXGate, RYGate, RZGate, CXGate, CRXGate, CRZGate\n",
    "from qiskit_machine_learning.kernels import QuantumKernel"
   ]
  },
  {
   "cell_type": "code",
   "execution_count": 3,
   "id": "7fc7cc26",
   "metadata": {},
   "outputs": [],
   "source": [
    "import os\n",
    "for dirname, _, filenames in os.walk(\"/home/jovyan/healthcare-dataset-stroke-data-trial.csv\"):\n",
    "    for filename in filenames:\n",
    "        print(os.path.join(dirname, filename))"
   ]
  },
  {
   "cell_type": "code",
   "execution_count": 4,
   "id": "4e2fd605",
   "metadata": {},
   "outputs": [],
   "source": [
    "# Warning library\n",
    "import warnings\n",
    "warnings.filterwarnings(\"ignore\")"
   ]
  },
  {
   "cell_type": "markdown",
   "id": "5e8b9572",
   "metadata": {},
   "source": [
    "## DATA EXPLORATION\n",
    "In our EDA we see that the healthcare dataset contains more female than male data points which provides context in how the heart_disease, hypertension, and other datasets may be biased."
   ]
  },
  {
   "cell_type": "code",
   "execution_count": 5,
   "id": "d44f18a9",
   "metadata": {},
   "outputs": [],
   "source": [
    "#load dataset\n",
    "data = pd.read_csv(\"/home/jovyan/healthcare-dataset-stroke-data-trial.csv\")"
   ]
  },
  {
   "cell_type": "code",
   "execution_count": 6,
   "id": "b0d22bd8",
   "metadata": {},
   "outputs": [
    {
     "data": {
      "text/plain": [
       "(20, 12)"
      ]
     },
     "execution_count": 6,
     "metadata": {},
     "output_type": "execute_result"
    }
   ],
   "source": [
    "data.shape"
   ]
  },
  {
   "cell_type": "code",
   "execution_count": 7,
   "id": "be156121",
   "metadata": {},
   "outputs": [
    {
     "data": {
      "text/plain": [
       "Index(['id', 'gender', 'age', 'hypertension', 'heart_disease', 'ever_married',\n",
       "       'work_type', 'Residence_type', 'avg_glucose_level', 'bmi',\n",
       "       'smoking_status', 'stroke'],\n",
       "      dtype='object')"
      ]
     },
     "execution_count": 7,
     "metadata": {},
     "output_type": "execute_result"
    }
   ],
   "source": [
    "data.columns"
   ]
  },
  {
   "cell_type": "code",
   "execution_count": 8,
   "id": "9f67e5e4",
   "metadata": {},
   "outputs": [
    {
     "name": "stdout",
     "output_type": "stream",
     "text": [
      "<class 'pandas.core.frame.DataFrame'>\n",
      "RangeIndex: 20 entries, 0 to 19\n",
      "Data columns (total 12 columns):\n",
      " #   Column             Non-Null Count  Dtype  \n",
      "---  ------             --------------  -----  \n",
      " 0   id                 20 non-null     int64  \n",
      " 1   gender             20 non-null     object \n",
      " 2   age                20 non-null     int64  \n",
      " 3   hypertension       20 non-null     int64  \n",
      " 4   heart_disease      20 non-null     int64  \n",
      " 5   ever_married       20 non-null     object \n",
      " 6   work_type          20 non-null     object \n",
      " 7   Residence_type     20 non-null     object \n",
      " 8   avg_glucose_level  20 non-null     float64\n",
      " 9   bmi                17 non-null     float64\n",
      " 10  smoking_status     20 non-null     object \n",
      " 11  stroke             20 non-null     int64  \n",
      "dtypes: float64(2), int64(5), object(5)\n",
      "memory usage: 2.0+ KB\n"
     ]
    }
   ],
   "source": [
    "#Print a concise summary of the Dataframe\n",
    "data.info()"
   ]
  },
  {
   "cell_type": "code",
   "execution_count": 9,
   "id": "9de78ddb",
   "metadata": {},
   "outputs": [
    {
     "data": {
      "text/html": [
       "<div>\n",
       "<style scoped>\n",
       "    .dataframe tbody tr th:only-of-type {\n",
       "        vertical-align: middle;\n",
       "    }\n",
       "\n",
       "    .dataframe tbody tr th {\n",
       "        vertical-align: top;\n",
       "    }\n",
       "\n",
       "    .dataframe thead th {\n",
       "        text-align: right;\n",
       "    }\n",
       "</style>\n",
       "<table border=\"1\" class=\"dataframe\">\n",
       "  <thead>\n",
       "    <tr style=\"text-align: right;\">\n",
       "      <th></th>\n",
       "      <th>id</th>\n",
       "      <th>age</th>\n",
       "      <th>hypertension</th>\n",
       "      <th>heart_disease</th>\n",
       "      <th>avg_glucose_level</th>\n",
       "      <th>bmi</th>\n",
       "      <th>stroke</th>\n",
       "    </tr>\n",
       "  </thead>\n",
       "  <tbody>\n",
       "    <tr>\n",
       "      <th>count</th>\n",
       "      <td>20.000000</td>\n",
       "      <td>20.000000</td>\n",
       "      <td>20.000000</td>\n",
       "      <td>20.000000</td>\n",
       "      <td>20.00000</td>\n",
       "      <td>17.000000</td>\n",
       "      <td>20.000000</td>\n",
       "    </tr>\n",
       "    <tr>\n",
       "      <th>mean</th>\n",
       "      <td>39993.500000</td>\n",
       "      <td>55.350000</td>\n",
       "      <td>0.150000</td>\n",
       "      <td>0.150000</td>\n",
       "      <td>122.77000</td>\n",
       "      <td>30.317647</td>\n",
       "      <td>0.500000</td>\n",
       "    </tr>\n",
       "    <tr>\n",
       "      <th>std</th>\n",
       "      <td>25088.688922</td>\n",
       "      <td>22.642008</td>\n",
       "      <td>0.366348</td>\n",
       "      <td>0.366348</td>\n",
       "      <td>54.20135</td>\n",
       "      <td>9.192404</td>\n",
       "      <td>0.512989</td>\n",
       "    </tr>\n",
       "    <tr>\n",
       "      <th>min</th>\n",
       "      <td>1665.000000</td>\n",
       "      <td>4.000000</td>\n",
       "      <td>0.000000</td>\n",
       "      <td>0.000000</td>\n",
       "      <td>57.42000</td>\n",
       "      <td>16.200000</td>\n",
       "      <td>0.000000</td>\n",
       "    </tr>\n",
       "    <tr>\n",
       "      <th>25%</th>\n",
       "      <td>14792.250000</td>\n",
       "      <td>45.500000</td>\n",
       "      <td>0.000000</td>\n",
       "      <td>0.000000</td>\n",
       "      <td>82.09000</td>\n",
       "      <td>24.200000</td>\n",
       "      <td>0.000000</td>\n",
       "    </tr>\n",
       "    <tr>\n",
       "      <th>50%</th>\n",
       "      <td>52779.000000</td>\n",
       "      <td>58.500000</td>\n",
       "      <td>0.000000</td>\n",
       "      <td>0.000000</td>\n",
       "      <td>108.64000</td>\n",
       "      <td>28.800000</td>\n",
       "      <td>0.500000</td>\n",
       "    </tr>\n",
       "    <tr>\n",
       "      <th>75%</th>\n",
       "      <td>60791.750000</td>\n",
       "      <td>75.000000</td>\n",
       "      <td>0.000000</td>\n",
       "      <td>0.000000</td>\n",
       "      <td>171.95250</td>\n",
       "      <td>33.700000</td>\n",
       "      <td>1.000000</td>\n",
       "    </tr>\n",
       "    <tr>\n",
       "      <th>max</th>\n",
       "      <td>68094.000000</td>\n",
       "      <td>81.000000</td>\n",
       "      <td>1.000000</td>\n",
       "      <td>1.000000</td>\n",
       "      <td>228.69000</td>\n",
       "      <td>56.600000</td>\n",
       "      <td>1.000000</td>\n",
       "    </tr>\n",
       "  </tbody>\n",
       "</table>\n",
       "</div>"
      ],
      "text/plain": [
       "                 id        age  hypertension  heart_disease  \\\n",
       "count     20.000000  20.000000     20.000000      20.000000   \n",
       "mean   39993.500000  55.350000      0.150000       0.150000   \n",
       "std    25088.688922  22.642008      0.366348       0.366348   \n",
       "min     1665.000000   4.000000      0.000000       0.000000   \n",
       "25%    14792.250000  45.500000      0.000000       0.000000   \n",
       "50%    52779.000000  58.500000      0.000000       0.000000   \n",
       "75%    60791.750000  75.000000      0.000000       0.000000   \n",
       "max    68094.000000  81.000000      1.000000       1.000000   \n",
       "\n",
       "       avg_glucose_level        bmi     stroke  \n",
       "count           20.00000  17.000000  20.000000  \n",
       "mean           122.77000  30.317647   0.500000  \n",
       "std             54.20135   9.192404   0.512989  \n",
       "min             57.42000  16.200000   0.000000  \n",
       "25%             82.09000  24.200000   0.000000  \n",
       "50%            108.64000  28.800000   0.500000  \n",
       "75%            171.95250  33.700000   1.000000  \n",
       "max            228.69000  56.600000   1.000000  "
      ]
     },
     "execution_count": 9,
     "metadata": {},
     "output_type": "execute_result"
    }
   ],
   "source": [
    "#View basic statistical details\n",
    "data.describe()"
   ]
  },
  {
   "cell_type": "code",
   "execution_count": 10,
   "id": "277268de",
   "metadata": {},
   "outputs": [
    {
     "data": {
      "text/plain": [
       "<AxesSubplot:xlabel='gender', ylabel='count'>"
      ]
     },
     "execution_count": 10,
     "metadata": {},
     "output_type": "execute_result"
    },
    {
     "data": {
      "image/png": "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\n",
      "text/plain": [
       "<Figure size 432x288 with 1 Axes>"
      ]
     },
     "metadata": {
      "needs_background": "light"
     },
     "output_type": "display_data"
    }
   ],
   "source": [
    "#Count plot for gender\n",
    "sns.countplot(data['gender'])"
   ]
  },
  {
   "cell_type": "code",
   "execution_count": 11,
   "id": "35c81b9f",
   "metadata": {},
   "outputs": [
    {
     "data": {
      "text/plain": [
       "<AxesSubplot:xlabel='stroke', ylabel='count'>"
      ]
     },
     "execution_count": 11,
     "metadata": {},
     "output_type": "execute_result"
    },
    {
     "data": {
      "image/png": "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\n",
      "text/plain": [
       "<Figure size 432x288 with 1 Axes>"
      ]
     },
     "metadata": {
      "needs_background": "light"
     },
     "output_type": "display_data"
    }
   ],
   "source": [
    "#Count plot for stroke\n",
    "sns.countplot(data['stroke'])"
   ]
  },
  {
   "cell_type": "markdown",
   "id": "a69b1b9e-1db8-469c-b451-51d47216fc5a",
   "metadata": {},
   "source": [
    "We see that the dataset contains an equal amount of stroke and non stroke individuals"
   ]
  },
  {
   "cell_type": "code",
   "execution_count": 12,
   "id": "b4a6812a",
   "metadata": {},
   "outputs": [
    {
     "data": {
      "text/plain": [
       "<AxesSubplot:xlabel='stroke', ylabel='count'>"
      ]
     },
     "execution_count": 12,
     "metadata": {},
     "output_type": "execute_result"
    },
    {
     "data": {
      "image/png": "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\n",
      "text/plain": [
       "<Figure size 432x288 with 1 Axes>"
      ]
     },
     "metadata": {
      "needs_background": "light"
     },
     "output_type": "display_data"
    }
   ],
   "source": [
    "#Number of people of each gender that had a stroke\n",
    "sns.countplot(data['stroke'], hue=data['gender'])"
   ]
  },
  {
   "cell_type": "code",
   "execution_count": 13,
   "id": "80b1fd7c",
   "metadata": {},
   "outputs": [
    {
     "data": {
      "text/plain": [
       "<AxesSubplot:xlabel='stroke', ylabel='count'>"
      ]
     },
     "execution_count": 13,
     "metadata": {},
     "output_type": "execute_result"
    },
    {
     "data": {
      "image/png": "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\n",
      "text/plain": [
       "<Figure size 432x288 with 1 Axes>"
      ]
     },
     "metadata": {
      "needs_background": "light"
     },
     "output_type": "display_data"
    }
   ],
   "source": [
    "#Number of people having strome who got married\n",
    "sns.countplot(data['stroke'], hue=data['ever_married'])"
   ]
  },
  {
   "cell_type": "code",
   "execution_count": 14,
   "id": "60f132b0",
   "metadata": {},
   "outputs": [
    {
     "data": {
      "text/plain": [
       "<AxesSubplot:xlabel='age'>"
      ]
     },
     "execution_count": 14,
     "metadata": {},
     "output_type": "execute_result"
    },
    {
     "data": {
      "image/png": "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\n",
      "text/plain": [
       "<Figure size 432x288 with 1 Axes>"
      ]
     },
     "metadata": {
      "needs_background": "light"
     },
     "output_type": "display_data"
    }
   ],
   "source": [
    "#Number of people in each category\n",
    "sns.distplot(data['age'], kde=False, color='red', bins=40)"
   ]
  },
  {
   "cell_type": "code",
   "execution_count": 15,
   "id": "1123f675",
   "metadata": {},
   "outputs": [
    {
     "data": {
      "text/plain": [
       "<AxesSubplot:xlabel='stroke', ylabel='count'>"
      ]
     },
     "execution_count": 15,
     "metadata": {},
     "output_type": "execute_result"
    },
    {
     "data": {
      "image/png": "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\n",
      "text/plain": [
       "<Figure size 432x288 with 1 Axes>"
      ]
     },
     "metadata": {
      "needs_background": "light"
     },
     "output_type": "display_data"
    }
   ],
   "source": [
    "#Number of people who had both heart disease and stroke\n",
    "sns.countplot(data['stroke'], hue=data['heart_disease'])"
   ]
  },
  {
   "cell_type": "code",
   "execution_count": 16,
   "id": "02981249",
   "metadata": {},
   "outputs": [
    {
     "data": {
      "text/plain": [
       "<AxesSubplot:xlabel='stroke', ylabel='count'>"
      ]
     },
     "execution_count": 16,
     "metadata": {},
     "output_type": "execute_result"
    },
    {
     "data": {
      "image/png": "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\n",
      "text/plain": [
       "<Figure size 432x288 with 1 Axes>"
      ]
     },
     "metadata": {
      "needs_background": "light"
     },
     "output_type": "display_data"
    }
   ],
   "source": [
    "#Peoples smoking status and whether or not they got stroke\n",
    "sns.countplot(data['stroke'], hue=data['smoking_status'])"
   ]
  },
  {
   "cell_type": "code",
   "execution_count": 17,
   "id": "3acb505d",
   "metadata": {},
   "outputs": [
    {
     "data": {
      "text/plain": [
       "<AxesSubplot:>"
      ]
     },
     "execution_count": 17,
     "metadata": {},
     "output_type": "execute_result"
    },
    {
     "data": {
      "image/png": "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\n",
      "text/plain": [
       "<Figure size 432x288 with 2 Axes>"
      ]
     },
     "metadata": {
      "needs_background": "light"
     },
     "output_type": "display_data"
    }
   ],
   "source": [
    "#Correlation between variables\n",
    "sns.heatmap(data.corr(), annot = True, cmap = 'viridis')"
   ]
  },
  {
   "cell_type": "markdown",
   "id": "578d93b4-9ff5-405b-9390-91d0bcbd5938",
   "metadata": {},
   "source": [
    "The correlation between heart disease and age as well as stroke nad age seem to be highly positive. We find this to correbrate with medical studies which  show empirical avidence of age. "
   ]
  },
  {
   "cell_type": "code",
   "execution_count": 18,
   "id": "c9cc763e",
   "metadata": {},
   "outputs": [
    {
     "data": {
      "text/plain": [
       "id                   0\n",
       "gender               0\n",
       "age                  0\n",
       "hypertension         0\n",
       "heart_disease        0\n",
       "ever_married         0\n",
       "work_type            0\n",
       "Residence_type       0\n",
       "avg_glucose_level    0\n",
       "bmi                  3\n",
       "smoking_status       0\n",
       "stroke               0\n",
       "dtype: int64"
      ]
     },
     "execution_count": 18,
     "metadata": {},
     "output_type": "execute_result"
    }
   ],
   "source": [
    "#Finding null value in each column\n",
    "data.isnull().sum()"
   ]
  },
  {
   "cell_type": "code",
   "execution_count": 19,
   "id": "5fbcea88",
   "metadata": {},
   "outputs": [
    {
     "data": {
      "text/html": [
       "<div>\n",
       "<style scoped>\n",
       "    .dataframe tbody tr th:only-of-type {\n",
       "        vertical-align: middle;\n",
       "    }\n",
       "\n",
       "    .dataframe tbody tr th {\n",
       "        vertical-align: top;\n",
       "    }\n",
       "\n",
       "    .dataframe thead th {\n",
       "        text-align: right;\n",
       "    }\n",
       "</style>\n",
       "<table border=\"1\" class=\"dataframe\">\n",
       "  <thead>\n",
       "    <tr style=\"text-align: right;\">\n",
       "      <th></th>\n",
       "      <th>gender</th>\n",
       "      <th>age</th>\n",
       "      <th>hypertension</th>\n",
       "      <th>heart_disease</th>\n",
       "      <th>ever_married</th>\n",
       "      <th>work_type</th>\n",
       "      <th>Residence_type</th>\n",
       "      <th>avg_glucose_level</th>\n",
       "      <th>bmi</th>\n",
       "      <th>smoking_status</th>\n",
       "      <th>stroke</th>\n",
       "    </tr>\n",
       "  </thead>\n",
       "  <tbody>\n",
       "    <tr>\n",
       "      <th>0</th>\n",
       "      <td>Male</td>\n",
       "      <td>67</td>\n",
       "      <td>0</td>\n",
       "      <td>1</td>\n",
       "      <td>Yes</td>\n",
       "      <td>Private</td>\n",
       "      <td>Urban</td>\n",
       "      <td>228.69</td>\n",
       "      <td>36.6</td>\n",
       "      <td>formerly smoked</td>\n",
       "      <td>1</td>\n",
       "    </tr>\n",
       "    <tr>\n",
       "      <th>1</th>\n",
       "      <td>Female</td>\n",
       "      <td>61</td>\n",
       "      <td>0</td>\n",
       "      <td>0</td>\n",
       "      <td>Yes</td>\n",
       "      <td>Self-employed</td>\n",
       "      <td>Rural</td>\n",
       "      <td>202.21</td>\n",
       "      <td>NaN</td>\n",
       "      <td>never smoked</td>\n",
       "      <td>1</td>\n",
       "    </tr>\n",
       "    <tr>\n",
       "      <th>2</th>\n",
       "      <td>Male</td>\n",
       "      <td>80</td>\n",
       "      <td>0</td>\n",
       "      <td>1</td>\n",
       "      <td>Yes</td>\n",
       "      <td>Private</td>\n",
       "      <td>Rural</td>\n",
       "      <td>105.92</td>\n",
       "      <td>32.5</td>\n",
       "      <td>never smoked</td>\n",
       "      <td>1</td>\n",
       "    </tr>\n",
       "    <tr>\n",
       "      <th>3</th>\n",
       "      <td>Female</td>\n",
       "      <td>49</td>\n",
       "      <td>0</td>\n",
       "      <td>0</td>\n",
       "      <td>Yes</td>\n",
       "      <td>Private</td>\n",
       "      <td>Urban</td>\n",
       "      <td>171.23</td>\n",
       "      <td>34.4</td>\n",
       "      <td>smokes</td>\n",
       "      <td>1</td>\n",
       "    </tr>\n",
       "    <tr>\n",
       "      <th>4</th>\n",
       "      <td>Female</td>\n",
       "      <td>79</td>\n",
       "      <td>1</td>\n",
       "      <td>0</td>\n",
       "      <td>Yes</td>\n",
       "      <td>Self-employed</td>\n",
       "      <td>Rural</td>\n",
       "      <td>174.12</td>\n",
       "      <td>24.0</td>\n",
       "      <td>never smoked</td>\n",
       "      <td>1</td>\n",
       "    </tr>\n",
       "  </tbody>\n",
       "</table>\n",
       "</div>"
      ],
      "text/plain": [
       "   gender  age  hypertension  heart_disease ever_married      work_type  \\\n",
       "0    Male   67             0              1          Yes        Private   \n",
       "1  Female   61             0              0          Yes  Self-employed   \n",
       "2    Male   80             0              1          Yes        Private   \n",
       "3  Female   49             0              0          Yes        Private   \n",
       "4  Female   79             1              0          Yes  Self-employed   \n",
       "\n",
       "  Residence_type  avg_glucose_level   bmi   smoking_status  stroke  \n",
       "0          Urban             228.69  36.6  formerly smoked       1  \n",
       "1          Rural             202.21   NaN     never smoked       1  \n",
       "2          Rural             105.92  32.5     never smoked       1  \n",
       "3          Urban             171.23  34.4           smokes       1  \n",
       "4          Rural             174.12  24.0     never smoked       1  "
      ]
     },
     "execution_count": 19,
     "metadata": {},
     "output_type": "execute_result"
    }
   ],
   "source": [
    "#Dropping unwanted columns\n",
    "data.drop(['id'], inplace = True, axis = 1)\n",
    "data.head()"
   ]
  },
  {
   "cell_type": "code",
   "execution_count": 20,
   "id": "ea5f165c",
   "metadata": {},
   "outputs": [
    {
     "data": {
      "text/plain": [
       "array(['Male', 'Female'], dtype=object)"
      ]
     },
     "execution_count": 20,
     "metadata": {},
     "output_type": "execute_result"
    }
   ],
   "source": [
    "#Handling unique in gender column\n",
    "data['gender'].unique()"
   ]
  },
  {
   "cell_type": "code",
   "execution_count": 21,
   "id": "9b5fcef5",
   "metadata": {},
   "outputs": [
    {
     "data": {
      "text/html": [
       "<div>\n",
       "<style scoped>\n",
       "    .dataframe tbody tr th:only-of-type {\n",
       "        vertical-align: middle;\n",
       "    }\n",
       "\n",
       "    .dataframe tbody tr th {\n",
       "        vertical-align: top;\n",
       "    }\n",
       "\n",
       "    .dataframe thead th {\n",
       "        text-align: right;\n",
       "    }\n",
       "</style>\n",
       "<table border=\"1\" class=\"dataframe\">\n",
       "  <thead>\n",
       "    <tr style=\"text-align: right;\">\n",
       "      <th></th>\n",
       "      <th>gender</th>\n",
       "      <th>age</th>\n",
       "      <th>hypertension</th>\n",
       "      <th>heart_disease</th>\n",
       "      <th>ever_married</th>\n",
       "      <th>work_type</th>\n",
       "      <th>Residence_type</th>\n",
       "      <th>avg_glucose_level</th>\n",
       "      <th>bmi</th>\n",
       "      <th>smoking_status</th>\n",
       "      <th>stroke</th>\n",
       "    </tr>\n",
       "  </thead>\n",
       "  <tbody>\n",
       "    <tr>\n",
       "      <th>0</th>\n",
       "      <td>0</td>\n",
       "      <td>67</td>\n",
       "      <td>0</td>\n",
       "      <td>1</td>\n",
       "      <td>Yes</td>\n",
       "      <td>Private</td>\n",
       "      <td>Urban</td>\n",
       "      <td>228.69</td>\n",
       "      <td>36.6</td>\n",
       "      <td>formerly smoked</td>\n",
       "      <td>1</td>\n",
       "    </tr>\n",
       "    <tr>\n",
       "      <th>1</th>\n",
       "      <td>1</td>\n",
       "      <td>61</td>\n",
       "      <td>0</td>\n",
       "      <td>0</td>\n",
       "      <td>Yes</td>\n",
       "      <td>Self-employed</td>\n",
       "      <td>Rural</td>\n",
       "      <td>202.21</td>\n",
       "      <td>NaN</td>\n",
       "      <td>never smoked</td>\n",
       "      <td>1</td>\n",
       "    </tr>\n",
       "    <tr>\n",
       "      <th>2</th>\n",
       "      <td>0</td>\n",
       "      <td>80</td>\n",
       "      <td>0</td>\n",
       "      <td>1</td>\n",
       "      <td>Yes</td>\n",
       "      <td>Private</td>\n",
       "      <td>Rural</td>\n",
       "      <td>105.92</td>\n",
       "      <td>32.5</td>\n",
       "      <td>never smoked</td>\n",
       "      <td>1</td>\n",
       "    </tr>\n",
       "    <tr>\n",
       "      <th>3</th>\n",
       "      <td>1</td>\n",
       "      <td>49</td>\n",
       "      <td>0</td>\n",
       "      <td>0</td>\n",
       "      <td>Yes</td>\n",
       "      <td>Private</td>\n",
       "      <td>Urban</td>\n",
       "      <td>171.23</td>\n",
       "      <td>34.4</td>\n",
       "      <td>smokes</td>\n",
       "      <td>1</td>\n",
       "    </tr>\n",
       "    <tr>\n",
       "      <th>4</th>\n",
       "      <td>1</td>\n",
       "      <td>79</td>\n",
       "      <td>1</td>\n",
       "      <td>0</td>\n",
       "      <td>Yes</td>\n",
       "      <td>Self-employed</td>\n",
       "      <td>Rural</td>\n",
       "      <td>174.12</td>\n",
       "      <td>24.0</td>\n",
       "      <td>never smoked</td>\n",
       "      <td>1</td>\n",
       "    </tr>\n",
       "  </tbody>\n",
       "</table>\n",
       "</div>"
      ],
      "text/plain": [
       "   gender  age  hypertension  heart_disease ever_married      work_type  \\\n",
       "0       0   67             0              1          Yes        Private   \n",
       "1       1   61             0              0          Yes  Self-employed   \n",
       "2       0   80             0              1          Yes        Private   \n",
       "3       1   49             0              0          Yes        Private   \n",
       "4       1   79             1              0          Yes  Self-employed   \n",
       "\n",
       "  Residence_type  avg_glucose_level   bmi   smoking_status  stroke  \n",
       "0          Urban             228.69  36.6  formerly smoked       1  \n",
       "1          Rural             202.21   NaN     never smoked       1  \n",
       "2          Rural             105.92  32.5     never smoked       1  \n",
       "3          Urban             171.23  34.4           smokes       1  \n",
       "4          Rural             174.12  24.0     never smoked       1  "
      ]
     },
     "execution_count": 21,
     "metadata": {},
     "output_type": "execute_result"
    }
   ],
   "source": [
    "def change(col):\n",
    "    if col == 'Male':\n",
    "        return 0\n",
    "    elif col == 'Female':\n",
    "        return 1\n",
    "    else:\n",
    "        return 2\n",
    "data['gender'] = data['gender'].apply(change)\n",
    "data.head()"
   ]
  },
  {
   "cell_type": "code",
   "execution_count": 22,
   "id": "a1c4d101",
   "metadata": {},
   "outputs": [
    {
     "data": {
      "text/plain": [
       "array(['Yes', 'No'], dtype=object)"
      ]
     },
     "execution_count": 22,
     "metadata": {},
     "output_type": "execute_result"
    }
   ],
   "source": [
    "#Handling ever_married column\n",
    "data['ever_married'].unique()"
   ]
  },
  {
   "cell_type": "code",
   "execution_count": 23,
   "id": "b696a407",
   "metadata": {},
   "outputs": [
    {
     "data": {
      "text/html": [
       "<div>\n",
       "<style scoped>\n",
       "    .dataframe tbody tr th:only-of-type {\n",
       "        vertical-align: middle;\n",
       "    }\n",
       "\n",
       "    .dataframe tbody tr th {\n",
       "        vertical-align: top;\n",
       "    }\n",
       "\n",
       "    .dataframe thead th {\n",
       "        text-align: right;\n",
       "    }\n",
       "</style>\n",
       "<table border=\"1\" class=\"dataframe\">\n",
       "  <thead>\n",
       "    <tr style=\"text-align: right;\">\n",
       "      <th></th>\n",
       "      <th>gender</th>\n",
       "      <th>age</th>\n",
       "      <th>hypertension</th>\n",
       "      <th>heart_disease</th>\n",
       "      <th>ever_married</th>\n",
       "      <th>work_type</th>\n",
       "      <th>Residence_type</th>\n",
       "      <th>avg_glucose_level</th>\n",
       "      <th>bmi</th>\n",
       "      <th>smoking_status</th>\n",
       "      <th>stroke</th>\n",
       "    </tr>\n",
       "  </thead>\n",
       "  <tbody>\n",
       "    <tr>\n",
       "      <th>0</th>\n",
       "      <td>0</td>\n",
       "      <td>67</td>\n",
       "      <td>0</td>\n",
       "      <td>1</td>\n",
       "      <td>1</td>\n",
       "      <td>Private</td>\n",
       "      <td>Urban</td>\n",
       "      <td>228.69</td>\n",
       "      <td>36.6</td>\n",
       "      <td>formerly smoked</td>\n",
       "      <td>1</td>\n",
       "    </tr>\n",
       "    <tr>\n",
       "      <th>1</th>\n",
       "      <td>1</td>\n",
       "      <td>61</td>\n",
       "      <td>0</td>\n",
       "      <td>0</td>\n",
       "      <td>1</td>\n",
       "      <td>Self-employed</td>\n",
       "      <td>Rural</td>\n",
       "      <td>202.21</td>\n",
       "      <td>NaN</td>\n",
       "      <td>never smoked</td>\n",
       "      <td>1</td>\n",
       "    </tr>\n",
       "    <tr>\n",
       "      <th>2</th>\n",
       "      <td>0</td>\n",
       "      <td>80</td>\n",
       "      <td>0</td>\n",
       "      <td>1</td>\n",
       "      <td>1</td>\n",
       "      <td>Private</td>\n",
       "      <td>Rural</td>\n",
       "      <td>105.92</td>\n",
       "      <td>32.5</td>\n",
       "      <td>never smoked</td>\n",
       "      <td>1</td>\n",
       "    </tr>\n",
       "    <tr>\n",
       "      <th>3</th>\n",
       "      <td>1</td>\n",
       "      <td>49</td>\n",
       "      <td>0</td>\n",
       "      <td>0</td>\n",
       "      <td>1</td>\n",
       "      <td>Private</td>\n",
       "      <td>Urban</td>\n",
       "      <td>171.23</td>\n",
       "      <td>34.4</td>\n",
       "      <td>smokes</td>\n",
       "      <td>1</td>\n",
       "    </tr>\n",
       "    <tr>\n",
       "      <th>4</th>\n",
       "      <td>1</td>\n",
       "      <td>79</td>\n",
       "      <td>1</td>\n",
       "      <td>0</td>\n",
       "      <td>1</td>\n",
       "      <td>Self-employed</td>\n",
       "      <td>Rural</td>\n",
       "      <td>174.12</td>\n",
       "      <td>24.0</td>\n",
       "      <td>never smoked</td>\n",
       "      <td>1</td>\n",
       "    </tr>\n",
       "  </tbody>\n",
       "</table>\n",
       "</div>"
      ],
      "text/plain": [
       "   gender  age  hypertension  heart_disease  ever_married      work_type  \\\n",
       "0       0   67             0              1             1        Private   \n",
       "1       1   61             0              0             1  Self-employed   \n",
       "2       0   80             0              1             1        Private   \n",
       "3       1   49             0              0             1        Private   \n",
       "4       1   79             1              0             1  Self-employed   \n",
       "\n",
       "  Residence_type  avg_glucose_level   bmi   smoking_status  stroke  \n",
       "0          Urban             228.69  36.6  formerly smoked       1  \n",
       "1          Rural             202.21   NaN     never smoked       1  \n",
       "2          Rural             105.92  32.5     never smoked       1  \n",
       "3          Urban             171.23  34.4           smokes       1  \n",
       "4          Rural             174.12  24.0     never smoked       1  "
      ]
     },
     "execution_count": 23,
     "metadata": {},
     "output_type": "execute_result"
    }
   ],
   "source": [
    "data['ever_married'] = pd.get_dummies(data['ever_married'], drop_first=True)\n",
    "data.head()"
   ]
  },
  {
   "cell_type": "code",
   "execution_count": 24,
   "id": "8dfd9820",
   "metadata": {},
   "outputs": [
    {
     "data": {
      "text/plain": [
       "array(['Private', 'Self-employed', 'children', 'Govt_job'], dtype=object)"
      ]
     },
     "execution_count": 24,
     "metadata": {},
     "output_type": "execute_result"
    }
   ],
   "source": [
    "#Handling worktype column\n",
    "data['work_type'].unique()"
   ]
  },
  {
   "cell_type": "code",
   "execution_count": 25,
   "id": "7677ecba",
   "metadata": {},
   "outputs": [
    {
     "data": {
      "text/html": [
       "<div>\n",
       "<style scoped>\n",
       "    .dataframe tbody tr th:only-of-type {\n",
       "        vertical-align: middle;\n",
       "    }\n",
       "\n",
       "    .dataframe tbody tr th {\n",
       "        vertical-align: top;\n",
       "    }\n",
       "\n",
       "    .dataframe thead th {\n",
       "        text-align: right;\n",
       "    }\n",
       "</style>\n",
       "<table border=\"1\" class=\"dataframe\">\n",
       "  <thead>\n",
       "    <tr style=\"text-align: right;\">\n",
       "      <th></th>\n",
       "      <th>gender</th>\n",
       "      <th>age</th>\n",
       "      <th>hypertension</th>\n",
       "      <th>heart_disease</th>\n",
       "      <th>ever_married</th>\n",
       "      <th>work_type</th>\n",
       "      <th>Residence_type</th>\n",
       "      <th>avg_glucose_level</th>\n",
       "      <th>bmi</th>\n",
       "      <th>smoking_status</th>\n",
       "      <th>stroke</th>\n",
       "    </tr>\n",
       "  </thead>\n",
       "  <tbody>\n",
       "    <tr>\n",
       "      <th>0</th>\n",
       "      <td>0</td>\n",
       "      <td>67</td>\n",
       "      <td>0</td>\n",
       "      <td>1</td>\n",
       "      <td>1</td>\n",
       "      <td>0</td>\n",
       "      <td>Urban</td>\n",
       "      <td>228.69</td>\n",
       "      <td>36.6</td>\n",
       "      <td>formerly smoked</td>\n",
       "      <td>1</td>\n",
       "    </tr>\n",
       "    <tr>\n",
       "      <th>1</th>\n",
       "      <td>1</td>\n",
       "      <td>61</td>\n",
       "      <td>0</td>\n",
       "      <td>0</td>\n",
       "      <td>1</td>\n",
       "      <td>4</td>\n",
       "      <td>Rural</td>\n",
       "      <td>202.21</td>\n",
       "      <td>NaN</td>\n",
       "      <td>never smoked</td>\n",
       "      <td>1</td>\n",
       "    </tr>\n",
       "    <tr>\n",
       "      <th>2</th>\n",
       "      <td>0</td>\n",
       "      <td>80</td>\n",
       "      <td>0</td>\n",
       "      <td>1</td>\n",
       "      <td>1</td>\n",
       "      <td>0</td>\n",
       "      <td>Rural</td>\n",
       "      <td>105.92</td>\n",
       "      <td>32.5</td>\n",
       "      <td>never smoked</td>\n",
       "      <td>1</td>\n",
       "    </tr>\n",
       "    <tr>\n",
       "      <th>3</th>\n",
       "      <td>1</td>\n",
       "      <td>49</td>\n",
       "      <td>0</td>\n",
       "      <td>0</td>\n",
       "      <td>1</td>\n",
       "      <td>0</td>\n",
       "      <td>Urban</td>\n",
       "      <td>171.23</td>\n",
       "      <td>34.4</td>\n",
       "      <td>smokes</td>\n",
       "      <td>1</td>\n",
       "    </tr>\n",
       "    <tr>\n",
       "      <th>4</th>\n",
       "      <td>1</td>\n",
       "      <td>79</td>\n",
       "      <td>1</td>\n",
       "      <td>0</td>\n",
       "      <td>1</td>\n",
       "      <td>4</td>\n",
       "      <td>Rural</td>\n",
       "      <td>174.12</td>\n",
       "      <td>24.0</td>\n",
       "      <td>never smoked</td>\n",
       "      <td>1</td>\n",
       "    </tr>\n",
       "  </tbody>\n",
       "</table>\n",
       "</div>"
      ],
      "text/plain": [
       "   gender  age  hypertension  heart_disease  ever_married  work_type  \\\n",
       "0       0   67             0              1             1          0   \n",
       "1       1   61             0              0             1          4   \n",
       "2       0   80             0              1             1          0   \n",
       "3       1   49             0              0             1          0   \n",
       "4       1   79             1              0             1          4   \n",
       "\n",
       "  Residence_type  avg_glucose_level   bmi   smoking_status  stroke  \n",
       "0          Urban             228.69  36.6  formerly smoked       1  \n",
       "1          Rural             202.21   NaN     never smoked       1  \n",
       "2          Rural             105.92  32.5     never smoked       1  \n",
       "3          Urban             171.23  34.4           smokes       1  \n",
       "4          Rural             174.12  24.0     never smoked       1  "
      ]
     },
     "execution_count": 25,
     "metadata": {},
     "output_type": "execute_result"
    }
   ],
   "source": [
    "def alter(col):\n",
    "    if col == 'Private':\n",
    "        return 0\n",
    "    elif col == 'Self_employed':\n",
    "        return 1\n",
    "    elif col == 'Govt_job':\n",
    "        return 2\n",
    "    elif col == 'Children':\n",
    "        return 3\n",
    "    else:\n",
    "        return 4\n",
    "data['work_type'] = data['work_type'].apply(alter)\n",
    "data.head()"
   ]
  },
  {
   "cell_type": "code",
   "execution_count": 26,
   "id": "cfe21dd2",
   "metadata": {},
   "outputs": [
    {
     "data": {
      "text/plain": [
       "array(['Urban', 'Rural'], dtype=object)"
      ]
     },
     "execution_count": 26,
     "metadata": {},
     "output_type": "execute_result"
    }
   ],
   "source": [
    "#Handling Residence_type column\n",
    "data['Residence_type'].unique()"
   ]
  },
  {
   "cell_type": "code",
   "execution_count": 27,
   "id": "2809d5a7",
   "metadata": {},
   "outputs": [
    {
     "data": {
      "text/html": [
       "<div>\n",
       "<style scoped>\n",
       "    .dataframe tbody tr th:only-of-type {\n",
       "        vertical-align: middle;\n",
       "    }\n",
       "\n",
       "    .dataframe tbody tr th {\n",
       "        vertical-align: top;\n",
       "    }\n",
       "\n",
       "    .dataframe thead th {\n",
       "        text-align: right;\n",
       "    }\n",
       "</style>\n",
       "<table border=\"1\" class=\"dataframe\">\n",
       "  <thead>\n",
       "    <tr style=\"text-align: right;\">\n",
       "      <th></th>\n",
       "      <th>gender</th>\n",
       "      <th>age</th>\n",
       "      <th>hypertension</th>\n",
       "      <th>heart_disease</th>\n",
       "      <th>ever_married</th>\n",
       "      <th>work_type</th>\n",
       "      <th>Residence_type</th>\n",
       "      <th>avg_glucose_level</th>\n",
       "      <th>bmi</th>\n",
       "      <th>smoking_status</th>\n",
       "      <th>stroke</th>\n",
       "    </tr>\n",
       "  </thead>\n",
       "  <tbody>\n",
       "    <tr>\n",
       "      <th>0</th>\n",
       "      <td>0</td>\n",
       "      <td>67</td>\n",
       "      <td>0</td>\n",
       "      <td>1</td>\n",
       "      <td>1</td>\n",
       "      <td>0</td>\n",
       "      <td>1</td>\n",
       "      <td>228.69</td>\n",
       "      <td>36.6</td>\n",
       "      <td>formerly smoked</td>\n",
       "      <td>1</td>\n",
       "    </tr>\n",
       "    <tr>\n",
       "      <th>1</th>\n",
       "      <td>1</td>\n",
       "      <td>61</td>\n",
       "      <td>0</td>\n",
       "      <td>0</td>\n",
       "      <td>1</td>\n",
       "      <td>4</td>\n",
       "      <td>0</td>\n",
       "      <td>202.21</td>\n",
       "      <td>NaN</td>\n",
       "      <td>never smoked</td>\n",
       "      <td>1</td>\n",
       "    </tr>\n",
       "    <tr>\n",
       "      <th>2</th>\n",
       "      <td>0</td>\n",
       "      <td>80</td>\n",
       "      <td>0</td>\n",
       "      <td>1</td>\n",
       "      <td>1</td>\n",
       "      <td>0</td>\n",
       "      <td>0</td>\n",
       "      <td>105.92</td>\n",
       "      <td>32.5</td>\n",
       "      <td>never smoked</td>\n",
       "      <td>1</td>\n",
       "    </tr>\n",
       "    <tr>\n",
       "      <th>3</th>\n",
       "      <td>1</td>\n",
       "      <td>49</td>\n",
       "      <td>0</td>\n",
       "      <td>0</td>\n",
       "      <td>1</td>\n",
       "      <td>0</td>\n",
       "      <td>1</td>\n",
       "      <td>171.23</td>\n",
       "      <td>34.4</td>\n",
       "      <td>smokes</td>\n",
       "      <td>1</td>\n",
       "    </tr>\n",
       "    <tr>\n",
       "      <th>4</th>\n",
       "      <td>1</td>\n",
       "      <td>79</td>\n",
       "      <td>1</td>\n",
       "      <td>0</td>\n",
       "      <td>1</td>\n",
       "      <td>4</td>\n",
       "      <td>0</td>\n",
       "      <td>174.12</td>\n",
       "      <td>24.0</td>\n",
       "      <td>never smoked</td>\n",
       "      <td>1</td>\n",
       "    </tr>\n",
       "  </tbody>\n",
       "</table>\n",
       "</div>"
      ],
      "text/plain": [
       "   gender  age  hypertension  heart_disease  ever_married  work_type  \\\n",
       "0       0   67             0              1             1          0   \n",
       "1       1   61             0              0             1          4   \n",
       "2       0   80             0              1             1          0   \n",
       "3       1   49             0              0             1          0   \n",
       "4       1   79             1              0             1          4   \n",
       "\n",
       "   Residence_type  avg_glucose_level   bmi   smoking_status  stroke  \n",
       "0               1             228.69  36.6  formerly smoked       1  \n",
       "1               0             202.21   NaN     never smoked       1  \n",
       "2               0             105.92  32.5     never smoked       1  \n",
       "3               1             171.23  34.4           smokes       1  \n",
       "4               0             174.12  24.0     never smoked       1  "
      ]
     },
     "execution_count": 27,
     "metadata": {},
     "output_type": "execute_result"
    }
   ],
   "source": [
    "data['Residence_type'] = pd.get_dummies(data['Residence_type'], drop_first = True)\n",
    "data.head()"
   ]
  },
  {
   "cell_type": "code",
   "execution_count": 28,
   "id": "feef8aa2",
   "metadata": {},
   "outputs": [
    {
     "data": {
      "text/plain": [
       "array(['formerly smoked', 'never smoked', 'smokes', 'Unknown'],\n",
       "      dtype=object)"
      ]
     },
     "execution_count": 28,
     "metadata": {},
     "output_type": "execute_result"
    }
   ],
   "source": [
    "#Handling smoking_status column\n",
    "data['smoking_status'].unique()"
   ]
  },
  {
   "cell_type": "code",
   "execution_count": 29,
   "id": "a340a6d8",
   "metadata": {},
   "outputs": [
    {
     "data": {
      "text/html": [
       "<div>\n",
       "<style scoped>\n",
       "    .dataframe tbody tr th:only-of-type {\n",
       "        vertical-align: middle;\n",
       "    }\n",
       "\n",
       "    .dataframe tbody tr th {\n",
       "        vertical-align: top;\n",
       "    }\n",
       "\n",
       "    .dataframe thead th {\n",
       "        text-align: right;\n",
       "    }\n",
       "</style>\n",
       "<table border=\"1\" class=\"dataframe\">\n",
       "  <thead>\n",
       "    <tr style=\"text-align: right;\">\n",
       "      <th></th>\n",
       "      <th>gender</th>\n",
       "      <th>age</th>\n",
       "      <th>hypertension</th>\n",
       "      <th>heart_disease</th>\n",
       "      <th>ever_married</th>\n",
       "      <th>work_type</th>\n",
       "      <th>Residence_type</th>\n",
       "      <th>avg_glucose_level</th>\n",
       "      <th>bmi</th>\n",
       "      <th>smoking_status</th>\n",
       "      <th>stroke</th>\n",
       "    </tr>\n",
       "  </thead>\n",
       "  <tbody>\n",
       "    <tr>\n",
       "      <th>0</th>\n",
       "      <td>0</td>\n",
       "      <td>67</td>\n",
       "      <td>0</td>\n",
       "      <td>1</td>\n",
       "      <td>1</td>\n",
       "      <td>0</td>\n",
       "      <td>1</td>\n",
       "      <td>228.69</td>\n",
       "      <td>36.6</td>\n",
       "      <td>0</td>\n",
       "      <td>1</td>\n",
       "    </tr>\n",
       "    <tr>\n",
       "      <th>1</th>\n",
       "      <td>1</td>\n",
       "      <td>61</td>\n",
       "      <td>0</td>\n",
       "      <td>0</td>\n",
       "      <td>1</td>\n",
       "      <td>4</td>\n",
       "      <td>0</td>\n",
       "      <td>202.21</td>\n",
       "      <td>NaN</td>\n",
       "      <td>1</td>\n",
       "      <td>1</td>\n",
       "    </tr>\n",
       "    <tr>\n",
       "      <th>2</th>\n",
       "      <td>0</td>\n",
       "      <td>80</td>\n",
       "      <td>0</td>\n",
       "      <td>1</td>\n",
       "      <td>1</td>\n",
       "      <td>0</td>\n",
       "      <td>0</td>\n",
       "      <td>105.92</td>\n",
       "      <td>32.5</td>\n",
       "      <td>1</td>\n",
       "      <td>1</td>\n",
       "    </tr>\n",
       "    <tr>\n",
       "      <th>3</th>\n",
       "      <td>1</td>\n",
       "      <td>49</td>\n",
       "      <td>0</td>\n",
       "      <td>0</td>\n",
       "      <td>1</td>\n",
       "      <td>0</td>\n",
       "      <td>1</td>\n",
       "      <td>171.23</td>\n",
       "      <td>34.4</td>\n",
       "      <td>2</td>\n",
       "      <td>1</td>\n",
       "    </tr>\n",
       "    <tr>\n",
       "      <th>4</th>\n",
       "      <td>1</td>\n",
       "      <td>79</td>\n",
       "      <td>1</td>\n",
       "      <td>0</td>\n",
       "      <td>1</td>\n",
       "      <td>4</td>\n",
       "      <td>0</td>\n",
       "      <td>174.12</td>\n",
       "      <td>24.0</td>\n",
       "      <td>1</td>\n",
       "      <td>1</td>\n",
       "    </tr>\n",
       "  </tbody>\n",
       "</table>\n",
       "</div>"
      ],
      "text/plain": [
       "   gender  age  hypertension  heart_disease  ever_married  work_type  \\\n",
       "0       0   67             0              1             1          0   \n",
       "1       1   61             0              0             1          4   \n",
       "2       0   80             0              1             1          0   \n",
       "3       1   49             0              0             1          0   \n",
       "4       1   79             1              0             1          4   \n",
       "\n",
       "   Residence_type  avg_glucose_level   bmi  smoking_status  stroke  \n",
       "0               1             228.69  36.6               0       1  \n",
       "1               0             202.21   NaN               1       1  \n",
       "2               0             105.92  32.5               1       1  \n",
       "3               1             171.23  34.4               2       1  \n",
       "4               0             174.12  24.0               1       1  "
      ]
     },
     "execution_count": 29,
     "metadata": {},
     "output_type": "execute_result"
    }
   ],
   "source": [
    "def change1(col):\n",
    "    if col == 'formerly smoked':\n",
    "        return 0\n",
    "    elif col == 'never smoked':\n",
    "        return 1\n",
    "    elif col == 'smokes':\n",
    "        return 2\n",
    "    else:\n",
    "        return 3\n",
    "data['smoking_status'] = data['smoking_status'].apply(change1)\n",
    "data.head()"
   ]
  },
  {
   "cell_type": "code",
   "execution_count": 30,
   "id": "09ba769c",
   "metadata": {},
   "outputs": [
    {
     "data": {
      "text/plain": [
       "dtype('float64')"
      ]
     },
     "execution_count": 30,
     "metadata": {},
     "output_type": "execute_result"
    }
   ],
   "source": [
    "#Handling null values in bmi column\n",
    "data['bmi'].dtype"
   ]
  },
  {
   "cell_type": "code",
   "execution_count": 31,
   "id": "fec004ae",
   "metadata": {},
   "outputs": [
    {
     "data": {
      "text/plain": [
       "<bound method DataFrame.info of     gender  age  hypertension  heart_disease  ever_married  work_type  \\\n",
       "0        0   67             0              1             1          0   \n",
       "1        1   61             0              0             1          4   \n",
       "2        0   80             0              1             1          0   \n",
       "3        1   49             0              0             1          0   \n",
       "4        1   79             1              0             1          4   \n",
       "5        0   81             0              0             1          0   \n",
       "6        0   74             1              1             1          0   \n",
       "7        1   69             0              0             0          0   \n",
       "8        1   59             0              0             1          0   \n",
       "9        1   78             0              0             1          0   \n",
       "10       0    4             0              0             0          4   \n",
       "11       0   55             0              0             1          4   \n",
       "12       1   44             0              0             1          0   \n",
       "13       1   31             0              0             1          0   \n",
       "14       0   58             0              0             1          2   \n",
       "15       1   17             0              0             0          0   \n",
       "16       1   23             0              0             0          0   \n",
       "17       0   51             1              0             1          4   \n",
       "18       1   46             0              0             1          0   \n",
       "19       1   81             0              0             0          4   \n",
       "\n",
       "    Residence_type  avg_glucose_level   bmi  smoking_status  stroke  \n",
       "0                1             228.69  36.6               0       1  \n",
       "1                0             202.21   NaN               1       1  \n",
       "2                0             105.92  32.5               1       1  \n",
       "3                1             171.23  34.4               2       1  \n",
       "4                0             174.12  24.0               1       1  \n",
       "5                1             186.21  29.0               0       1  \n",
       "6                0              70.09  27.4               1       1  \n",
       "7                1              94.39  22.8               1       1  \n",
       "8                0              76.15   NaN               3       1  \n",
       "9                1              58.57  24.2               3       1  \n",
       "10               1              94.23  16.2               3       0  \n",
       "11               0             111.36  33.6               1       0  \n",
       "12               1              84.07  21.2               2       0  \n",
       "13               1             117.31  28.4               1       0  \n",
       "14               1              84.94   NaN               1       0  \n",
       "15               1              68.86  41.1               1       0  \n",
       "16               1             132.88  24.9               1       0  \n",
       "17               0             211.83  56.6               1       0  \n",
       "18               0             124.92  28.8               3       0  \n",
       "19               1              57.42  33.7               1       0  >"
      ]
     },
     "execution_count": 31,
     "metadata": {},
     "output_type": "execute_result"
    }
   ],
   "source": [
    "data.info"
   ]
  },
  {
   "cell_type": "code",
   "execution_count": 32,
   "id": "169aa2f6",
   "metadata": {},
   "outputs": [
    {
     "data": {
      "text/html": [
       "<div>\n",
       "<style scoped>\n",
       "    .dataframe tbody tr th:only-of-type {\n",
       "        vertical-align: middle;\n",
       "    }\n",
       "\n",
       "    .dataframe tbody tr th {\n",
       "        vertical-align: top;\n",
       "    }\n",
       "\n",
       "    .dataframe thead th {\n",
       "        text-align: right;\n",
       "    }\n",
       "</style>\n",
       "<table border=\"1\" class=\"dataframe\">\n",
       "  <thead>\n",
       "    <tr style=\"text-align: right;\">\n",
       "      <th></th>\n",
       "      <th>gender</th>\n",
       "      <th>age</th>\n",
       "      <th>hypertension</th>\n",
       "      <th>heart_disease</th>\n",
       "      <th>ever_married</th>\n",
       "      <th>work_type</th>\n",
       "      <th>Residence_type</th>\n",
       "      <th>avg_glucose_level</th>\n",
       "      <th>bmi</th>\n",
       "      <th>smoking_status</th>\n",
       "      <th>stroke</th>\n",
       "    </tr>\n",
       "  </thead>\n",
       "  <tbody>\n",
       "    <tr>\n",
       "      <th>0</th>\n",
       "      <td>0</td>\n",
       "      <td>67</td>\n",
       "      <td>0</td>\n",
       "      <td>1</td>\n",
       "      <td>1</td>\n",
       "      <td>0</td>\n",
       "      <td>1</td>\n",
       "      <td>228.69</td>\n",
       "      <td>36.6</td>\n",
       "      <td>0</td>\n",
       "      <td>1</td>\n",
       "    </tr>\n",
       "    <tr>\n",
       "      <th>1</th>\n",
       "      <td>1</td>\n",
       "      <td>61</td>\n",
       "      <td>0</td>\n",
       "      <td>0</td>\n",
       "      <td>1</td>\n",
       "      <td>4</td>\n",
       "      <td>0</td>\n",
       "      <td>202.21</td>\n",
       "      <td>28.8</td>\n",
       "      <td>1</td>\n",
       "      <td>1</td>\n",
       "    </tr>\n",
       "    <tr>\n",
       "      <th>2</th>\n",
       "      <td>0</td>\n",
       "      <td>80</td>\n",
       "      <td>0</td>\n",
       "      <td>1</td>\n",
       "      <td>1</td>\n",
       "      <td>0</td>\n",
       "      <td>0</td>\n",
       "      <td>105.92</td>\n",
       "      <td>32.5</td>\n",
       "      <td>1</td>\n",
       "      <td>1</td>\n",
       "    </tr>\n",
       "    <tr>\n",
       "      <th>3</th>\n",
       "      <td>1</td>\n",
       "      <td>49</td>\n",
       "      <td>0</td>\n",
       "      <td>0</td>\n",
       "      <td>1</td>\n",
       "      <td>0</td>\n",
       "      <td>1</td>\n",
       "      <td>171.23</td>\n",
       "      <td>34.4</td>\n",
       "      <td>2</td>\n",
       "      <td>1</td>\n",
       "    </tr>\n",
       "    <tr>\n",
       "      <th>4</th>\n",
       "      <td>1</td>\n",
       "      <td>79</td>\n",
       "      <td>1</td>\n",
       "      <td>0</td>\n",
       "      <td>1</td>\n",
       "      <td>4</td>\n",
       "      <td>0</td>\n",
       "      <td>174.12</td>\n",
       "      <td>24.0</td>\n",
       "      <td>1</td>\n",
       "      <td>1</td>\n",
       "    </tr>\n",
       "  </tbody>\n",
       "</table>\n",
       "</div>"
      ],
      "text/plain": [
       "   gender  age  hypertension  heart_disease  ever_married  work_type  \\\n",
       "0       0   67             0              1             1          0   \n",
       "1       1   61             0              0             1          4   \n",
       "2       0   80             0              1             1          0   \n",
       "3       1   49             0              0             1          0   \n",
       "4       1   79             1              0             1          4   \n",
       "\n",
       "   Residence_type  avg_glucose_level   bmi  smoking_status  stroke  \n",
       "0               1             228.69  36.6               0       1  \n",
       "1               0             202.21  28.8               1       1  \n",
       "2               0             105.92  32.5               1       1  \n",
       "3               1             171.23  34.4               2       1  \n",
       "4               0             174.12  24.0               1       1  "
      ]
     },
     "execution_count": 32,
     "metadata": {},
     "output_type": "execute_result"
    }
   ],
   "source": [
    "data['bmi'] = data['bmi'].fillna(data['bmi'].median())\n",
    "data.head()"
   ]
  },
  {
   "cell_type": "code",
   "execution_count": 33,
   "id": "bb479643",
   "metadata": {},
   "outputs": [
    {
     "data": {
      "text/plain": [
       "gender               0\n",
       "age                  0\n",
       "hypertension         0\n",
       "heart_disease        0\n",
       "ever_married         0\n",
       "work_type            0\n",
       "Residence_type       0\n",
       "avg_glucose_level    0\n",
       "bmi                  0\n",
       "smoking_status       0\n",
       "stroke               0\n",
       "dtype: int64"
      ]
     },
     "execution_count": 33,
     "metadata": {},
     "output_type": "execute_result"
    }
   ],
   "source": [
    "data.isnull().sum()"
   ]
  },
  {
   "cell_type": "markdown",
   "id": "0ab724e6",
   "metadata": {},
   "source": [
    "## Training Model"
   ]
  },
  {
   "cell_type": "code",
   "execution_count": 34,
   "id": "52d9226b",
   "metadata": {},
   "outputs": [
    {
     "name": "stdout",
     "output_type": "stream",
     "text": [
      "[[  0.    67.     0.     1.     1.     0.     1.   228.69  36.6    0.  ]\n",
      " [  1.    61.     0.     0.     1.     4.     0.   202.21  28.8    1.  ]\n",
      " [  0.    80.     0.     1.     1.     0.     0.   105.92  32.5    1.  ]\n",
      " [  1.    49.     0.     0.     1.     0.     1.   171.23  34.4    2.  ]\n",
      " [  1.    79.     1.     0.     1.     4.     0.   174.12  24.     1.  ]\n",
      " [  0.    81.     0.     0.     1.     0.     1.   186.21  29.     0.  ]\n",
      " [  0.    74.     1.     1.     1.     0.     0.    70.09  27.4    1.  ]\n",
      " [  1.    69.     0.     0.     0.     0.     1.    94.39  22.8    1.  ]\n",
      " [  1.    59.     0.     0.     1.     0.     0.    76.15  28.8    3.  ]\n",
      " [  1.    78.     0.     0.     1.     0.     1.    58.57  24.2    3.  ]\n",
      " [  0.     4.     0.     0.     0.     4.     1.    94.23  16.2    3.  ]\n",
      " [  0.    55.     0.     0.     1.     4.     0.   111.36  33.6    1.  ]\n",
      " [  1.    44.     0.     0.     1.     0.     1.    84.07  21.2    2.  ]\n",
      " [  1.    31.     0.     0.     1.     0.     1.   117.31  28.4    1.  ]\n",
      " [  0.    58.     0.     0.     1.     2.     1.    84.94  28.8    1.  ]\n",
      " [  1.    17.     0.     0.     0.     0.     1.    68.86  41.1    1.  ]\n",
      " [  1.    23.     0.     0.     0.     0.     1.   132.88  24.9    1.  ]\n",
      " [  0.    51.     1.     0.     1.     4.     0.   211.83  56.6    1.  ]\n",
      " [  1.    46.     0.     0.     1.     0.     0.   124.92  28.8    3.  ]\n",
      " [  1.    81.     0.     0.     0.     4.     1.    57.42  33.7    1.  ]]\n"
     ]
    }
   ],
   "source": [
    "X = data.iloc[:,:-1].values\n",
    "print(X)"
   ]
  },
  {
   "cell_type": "code",
   "execution_count": 35,
   "id": "0b3c7413",
   "metadata": {},
   "outputs": [
    {
     "name": "stdout",
     "output_type": "stream",
     "text": [
      "[1 1 1 1 1 1 1 1 1 1 0 0 0 0 0 0 0 0 0 0]\n"
     ]
    }
   ],
   "source": [
    "y = data.iloc[:,-1].values\n",
    "print(y)"
   ]
  },
  {
   "cell_type": "code",
   "execution_count": 36,
   "id": "6c0ba443",
   "metadata": {},
   "outputs": [],
   "source": [
    "seed = 12345\n",
    "algorithm_globals.random_seed = seed"
   ]
  },
  {
   "cell_type": "markdown",
   "id": "aebe20e4-cc0f-4b96-bbc3-74649c3bdbb7",
   "metadata": {},
   "source": [
    "# Quantum and Classical SVC\n",
    "In the following cell we are initiating the dataset and breaking it into an appropriate 80:20 ratio for training and test."
   ]
  },
  {
   "cell_type": "code",
   "execution_count": 37,
   "id": "d727f26f",
   "metadata": {},
   "outputs": [],
   "source": [
    "#Getting ready traing and testing datasets\n",
    "data = pd.read_csv(\"/home/jovyan/healthcare-dataset-stroke-data-trial.csv\")\n",
    "n = 4\n",
    "RANDOM_STATE = 42\n",
    "data_dimension = 2\n",
    "\n",
    "X_train, X_test, y_train, y_test = train_test_split(X, y, test_size = 0.2, random_state = RANDOM_STATE)"
   ]
  },
  {
   "cell_type": "markdown",
   "id": "c7c1f1d9-bd68-440d-a12b-b92abda458b8",
   "metadata": {},
   "source": [
    "## Use and IBM simulator to run the quantum job:\n",
    "Here we are initializing the QASM quantum simulator by IBM. We apply 1024 shots."
   ]
  },
  {
   "cell_type": "code",
   "execution_count": 38,
   "id": "dcbd3304",
   "metadata": {},
   "outputs": [],
   "source": [
    "quantum_instance = QuantumInstance(Aer.get_backend('qasm_simulator'), shots=1024,\n",
    "                                   seed_simulator=seed, seed_transpiler=seed)"
   ]
  },
  {
   "cell_type": "markdown",
   "id": "ed32c298-31c3-4c21-8007-5d3a2dbfec58",
   "metadata": {},
   "source": [
    "The zz feature map is used to encode the data(Quantum encoding is a process to transform classical information into quantum states)."
   ]
  },
  {
   "cell_type": "code",
   "execution_count": null,
   "id": "48dc5985",
   "metadata": {},
   "outputs": [],
   "source": [
    "# Create QuantumKernel class to calculate a kernel matrix using the ZZFeatureMap,.\n",
    "#Data encoding\n",
    "zz_feature_map = ZZFeatureMap(feature_dimension=data_dimension, reps=2, entanglement='linear')\n",
    "zz_kernel = QuantumKernel(feature_map=zz_feature_map, quantum_instance=quantum_instance)\n",
    "\n",
    "zz_feature_map.decompose().draw(output=\"mpl\", scale=2)\n"
   ]
  },
  {
   "cell_type": "code",
   "execution_count": 40,
   "id": "784945cf",
   "metadata": {},
   "outputs": [
    {
     "name": "stdout",
     "output_type": "stream",
     "text": [
      "Callable kernel with ZZFeatureMap classification test score: 0.5\n"
     ]
    }
   ],
   "source": [
    "from sklearn.svm import SVC\n",
    "\n",
    "svc = SVC(kernel=zz_kernel.evaluate)\n",
    "svc.fit(X_train, y_train)\n",
    "score = svc.score(X_test, y_test)\n",
    "print(f'Callable kernel with ZZFeatureMap classification test score: {score}')"
   ]
  },
  {
   "cell_type": "code",
   "execution_count": 41,
   "id": "6b49a5ec",
   "metadata": {},
   "outputs": [
    {
     "name": "stdout",
     "output_type": "stream",
     "text": [
      "QSVC classification test score: 1.0\n"
     ]
    }
   ],
   "source": [
    "#\n",
    "qsvc = QSVC()\n",
    "qsvc.quantum_kernel.quantum_instance = quantum_instance\n",
    "\n",
    "qsvc.fit(X_train, y_train)\n",
    "qsvc_score = qsvc.score(X_test, y_test)\n",
    "print(f'QSVC classification test score: {qsvc_score}')\n"
   ]
  },
  {
   "cell_type": "code",
   "execution_count": 42,
   "id": "668463e0",
   "metadata": {},
   "outputs": [
    {
     "data": {
      "image/png": "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\n",
      "text/plain": [
       "<Figure size 432x288 with 1 Axes>"
      ]
     },
     "metadata": {
      "needs_background": "light"
     },
     "output_type": "display_data"
    }
   ],
   "source": [
    "qsvc.predict(X_train)\n",
    "import matplotlib.pyplot as plt\n",
    "plt.plot(X_train, y_train)\n",
    "plt.show()"
   ]
  },
  {
   "cell_type": "markdown",
   "id": "ec97c46c",
   "metadata": {},
   "source": [
    "## Checking generilization with Heart Disease Prediction Dataset"
    "\n",
    "We would like to also see if any of these quantum models are good at generalization. A model is said to have good generalization if it is capable of performing well on new data that it has never seen before."
   ]
  },
  {
   "cell_type": "code",
   "execution_count": 43,
   "id": "4bab580e",
   "metadata": {},
   "outputs": [],
   "source": [
    "#load dataset\n",
    "new_data2 = pd.read_csv(\"/home/jovyan/Heart_Disease_Prediction.csv\")"
   ]
  },
  {
   "cell_type": "code",
   "execution_count": 44,
   "id": "98b671c2",
   "metadata": {},
   "outputs": [
    {
     "data": {
      "text/html": [
       "<div>\n",
       "<style scoped>\n",
       "    .dataframe tbody tr th:only-of-type {\n",
       "        vertical-align: middle;\n",
       "    }\n",
       "\n",
       "    .dataframe tbody tr th {\n",
       "        vertical-align: top;\n",
       "    }\n",
       "\n",
       "    .dataframe thead th {\n",
       "        text-align: right;\n",
       "    }\n",
       "</style>\n",
       "<table border=\"1\" class=\"dataframe\">\n",
       "  <thead>\n",
       "    <tr style=\"text-align: right;\">\n",
       "      <th></th>\n",
       "      <th>Age</th>\n",
       "      <th>Sex</th>\n",
       "      <th>Chest pain type</th>\n",
       "      <th>BP</th>\n",
       "      <th>Cholesterol</th>\n",
       "      <th>FBS over 120</th>\n",
       "      <th>EKG results</th>\n",
       "      <th>Max HR</th>\n",
       "      <th>Exercise angina</th>\n",
       "      <th>ST depression</th>\n",
       "      <th>Slope of ST</th>\n",
       "      <th>Number of vessels fluro</th>\n",
       "      <th>Thallium</th>\n",
       "      <th>Heart Disease</th>\n",
       "    </tr>\n",
       "  </thead>\n",
       "  <tbody>\n",
       "    <tr>\n",
       "      <th>0</th>\n",
       "      <td>70</td>\n",
       "      <td>1</td>\n",
       "      <td>4</td>\n",
       "      <td>130</td>\n",
       "      <td>322</td>\n",
       "      <td>0</td>\n",
       "      <td>2</td>\n",
       "      <td>109</td>\n",
       "      <td>0</td>\n",
       "      <td>2.4</td>\n",
       "      <td>2</td>\n",
       "      <td>3</td>\n",
       "      <td>3</td>\n",
       "      <td>Presence</td>\n",
       "    </tr>\n",
       "    <tr>\n",
       "      <th>1</th>\n",
       "      <td>67</td>\n",
       "      <td>0</td>\n",
       "      <td>3</td>\n",
       "      <td>115</td>\n",
       "      <td>564</td>\n",
       "      <td>0</td>\n",
       "      <td>2</td>\n",
       "      <td>160</td>\n",
       "      <td>0</td>\n",
       "      <td>1.6</td>\n",
       "      <td>2</td>\n",
       "      <td>0</td>\n",
       "      <td>7</td>\n",
       "      <td>Absence</td>\n",
       "    </tr>\n",
       "    <tr>\n",
       "      <th>2</th>\n",
       "      <td>57</td>\n",
       "      <td>1</td>\n",
       "      <td>2</td>\n",
       "      <td>124</td>\n",
       "      <td>261</td>\n",
       "      <td>0</td>\n",
       "      <td>0</td>\n",
       "      <td>141</td>\n",
       "      <td>0</td>\n",
       "      <td>0.3</td>\n",
       "      <td>1</td>\n",
       "      <td>0</td>\n",
       "      <td>7</td>\n",
       "      <td>Presence</td>\n",
       "    </tr>\n",
       "    <tr>\n",
       "      <th>3</th>\n",
       "      <td>64</td>\n",
       "      <td>1</td>\n",
       "      <td>4</td>\n",
       "      <td>128</td>\n",
       "      <td>263</td>\n",
       "      <td>0</td>\n",
       "      <td>0</td>\n",
       "      <td>105</td>\n",
       "      <td>1</td>\n",
       "      <td>0.2</td>\n",
       "      <td>2</td>\n",
       "      <td>1</td>\n",
       "      <td>7</td>\n",
       "      <td>Absence</td>\n",
       "    </tr>\n",
       "    <tr>\n",
       "      <th>4</th>\n",
       "      <td>74</td>\n",
       "      <td>0</td>\n",
       "      <td>2</td>\n",
       "      <td>120</td>\n",
       "      <td>269</td>\n",
       "      <td>0</td>\n",
       "      <td>2</td>\n",
       "      <td>121</td>\n",
       "      <td>1</td>\n",
       "      <td>0.2</td>\n",
       "      <td>1</td>\n",
       "      <td>1</td>\n",
       "      <td>3</td>\n",
       "      <td>Absence</td>\n",
       "    </tr>\n",
       "  </tbody>\n",
       "</table>\n",
       "</div>"
      ],
      "text/plain": [
       "   Age  Sex  Chest pain type   BP  Cholesterol  FBS over 120  EKG results  \\\n",
       "0   70    1                4  130          322             0            2   \n",
       "1   67    0                3  115          564             0            2   \n",
       "2   57    1                2  124          261             0            0   \n",
       "3   64    1                4  128          263             0            0   \n",
       "4   74    0                2  120          269             0            2   \n",
       "\n",
       "   Max HR  Exercise angina  ST depression  Slope of ST  \\\n",
       "0     109                0            2.4            2   \n",
       "1     160                0            1.6            2   \n",
       "2     141                0            0.3            1   \n",
       "3     105                1            0.2            2   \n",
       "4     121                1            0.2            1   \n",
       "\n",
       "   Number of vessels fluro  Thallium Heart Disease  \n",
       "0                        3         3      Presence  \n",
       "1                        0         7       Absence  \n",
       "2                        0         7      Presence  \n",
       "3                        1         7       Absence  \n",
       "4                        1         3       Absence  "
      ]
     },
     "execution_count": 44,
     "metadata": {},
     "output_type": "execute_result"
    }
   ],
   "source": [
    "new_data2.head()"
   ]
  },
  {
   "cell_type": "code",
   "execution_count": 45,
   "id": "500b38fc",
   "metadata": {},
   "outputs": [
    {
     "data": {
      "text/plain": [
       "<bound method DataFrame.info of     Age  Sex  Chest pain type   BP  Cholesterol  FBS over 120  EKG results  \\\n",
       "0    70    1                4  130          322             0            2   \n",
       "1    67    0                3  115          564             0            2   \n",
       "2    57    1                2  124          261             0            0   \n",
       "3    64    1                4  128          263             0            0   \n",
       "4    74    0                2  120          269             0            2   \n",
       "..  ...  ...              ...  ...          ...           ...          ...   \n",
       "94   52    1                4  125          212             0            0   \n",
       "95   47    1                4  110          275             0            2   \n",
       "96   66    1                4  120          302             0            2   \n",
       "97   58    1                4  100          234             0            0   \n",
       "98   64    0                3  140          313             0            0   \n",
       "\n",
       "    Max HR  Exercise angina  ST depression  Slope of ST  \\\n",
       "0      109                0            2.4            2   \n",
       "1      160                0            1.6            2   \n",
       "2      141                0            0.3            1   \n",
       "3      105                1            0.2            2   \n",
       "4      121                1            0.2            1   \n",
       "..     ...              ...            ...          ...   \n",
       "94     168                0            1.0            1   \n",
       "95     118                1            1.0            2   \n",
       "96     151                0            0.4            2   \n",
       "97     156                0            0.1            1   \n",
       "98     133                0            0.2            1   \n",
       "\n",
       "    Number of vessels fluro  Thallium Heart Disease  \n",
       "0                         3         3      Presence  \n",
       "1                         0         7       Absence  \n",
       "2                         0         7      Presence  \n",
       "3                         1         7       Absence  \n",
       "4                         1         3       Absence  \n",
       "..                      ...       ...           ...  \n",
       "94                        2         7      Presence  \n",
       "95                        1         3      Presence  \n",
       "96                        0         3       Absence  \n",
       "97                        1         7      Presence  \n",
       "98                        0         7       Absence  \n",
       "\n",
       "[99 rows x 14 columns]>"
      ]
     },
     "execution_count": 45,
     "metadata": {},
     "output_type": "execute_result"
    }
   ],
   "source": [
    "new_data2.info"
   ]
  },
  {
   "cell_type": "code",
   "execution_count": 46,
   "id": "5a6978c8",
   "metadata": {},
   "outputs": [
    {
     "data": {
      "text/plain": [
       "(99, 14)"
      ]
     },
     "execution_count": 46,
     "metadata": {},
     "output_type": "execute_result"
    }
   ],
   "source": [
    "new_data2.shape"
   ]
  },
  {
   "cell_type": "code",
   "execution_count": 47,
   "id": "c2afd6f5",
   "metadata": {},
   "outputs": [
    {
     "data": {
      "text/plain": [
       "<bound method NDFrame.describe of     Age  Sex  Chest pain type   BP  Cholesterol  FBS over 120  EKG results  \\\n",
       "0    70    1                4  130          322             0            2   \n",
       "1    67    0                3  115          564             0            2   \n",
       "2    57    1                2  124          261             0            0   \n",
       "3    64    1                4  128          263             0            0   \n",
       "4    74    0                2  120          269             0            2   \n",
       "..  ...  ...              ...  ...          ...           ...          ...   \n",
       "94   52    1                4  125          212             0            0   \n",
       "95   47    1                4  110          275             0            2   \n",
       "96   66    1                4  120          302             0            2   \n",
       "97   58    1                4  100          234             0            0   \n",
       "98   64    0                3  140          313             0            0   \n",
       "\n",
       "    Max HR  Exercise angina  ST depression  Slope of ST  \\\n",
       "0      109                0            2.4            2   \n",
       "1      160                0            1.6            2   \n",
       "2      141                0            0.3            1   \n",
       "3      105                1            0.2            2   \n",
       "4      121                1            0.2            1   \n",
       "..     ...              ...            ...          ...   \n",
       "94     168                0            1.0            1   \n",
       "95     118                1            1.0            2   \n",
       "96     151                0            0.4            2   \n",
       "97     156                0            0.1            1   \n",
       "98     133                0            0.2            1   \n",
       "\n",
       "    Number of vessels fluro  Thallium Heart Disease  \n",
       "0                         3         3      Presence  \n",
       "1                         0         7       Absence  \n",
       "2                         0         7      Presence  \n",
       "3                         1         7       Absence  \n",
       "4                         1         3       Absence  \n",
       "..                      ...       ...           ...  \n",
       "94                        2         7      Presence  \n",
       "95                        1         3      Presence  \n",
       "96                        0         3       Absence  \n",
       "97                        1         7      Presence  \n",
       "98                        0         7       Absence  \n",
       "\n",
       "[99 rows x 14 columns]>"
      ]
     },
     "execution_count": 47,
     "metadata": {},
     "output_type": "execute_result"
    }
   ],
   "source": [
    "new_data2.describe"
   ]
  },
  {
   "cell_type": "code",
   "execution_count": 48,
   "id": "a4b70e19",
   "metadata": {},
   "outputs": [
    {
     "data": {
      "text/plain": [
       "0"
      ]
     },
     "execution_count": 48,
     "metadata": {},
     "output_type": "execute_result"
    }
   ],
   "source": [
    "new_data2.duplicated().sum()"
   ]
  },
  {
   "cell_type": "code",
   "execution_count": 49,
   "id": "4e6dd456",
   "metadata": {},
   "outputs": [
    {
     "name": "stdout",
     "output_type": "stream",
     "text": [
      "[[70.  1.  4. ...  2.  3.  3.]\n",
      " [67.  0.  3. ...  2.  0.  7.]\n",
      " [57.  1.  2. ...  1.  0.  7.]\n",
      " ...\n",
      " [66.  1.  4. ...  2.  0.  3.]\n",
      " [58.  1.  4. ...  1.  1.  7.]\n",
      " [64.  0.  3. ...  1.  0.  7.]]\n"
     ]
    }
   ],
   "source": [
    "X = new_data2.iloc[:,:-1].values\n",
    "print(X)"
   ]
  },
  {
   "cell_type": "code",
   "execution_count": 50,
   "id": "f73a0f84",
   "metadata": {},
   "outputs": [
    {
     "name": "stdout",
     "output_type": "stream",
     "text": [
      "['Presence' 'Absence' 'Presence' 'Absence' 'Absence' 'Absence' 'Presence'\n",
      " 'Presence' 'Presence' 'Presence' 'Absence' 'Absence' 'Absence' 'Presence'\n",
      " 'Absence' 'Absence' 'Presence' 'Presence' 'Absence' 'Absence' 'Presence'\n",
      " 'Absence' 'Absence' 'Absence' 'Absence' 'Absence' 'Absence' 'Absence'\n",
      " 'Presence' 'Absence' 'Presence' 'Absence' 'Absence' 'Presence' 'Presence'\n",
      " 'Presence' 'Presence' 'Presence' 'Absence' 'Absence' 'Presence' 'Absence'\n",
      " 'Absence' 'Absence' 'Presence' 'Absence' 'Presence' 'Presence' 'Presence'\n",
      " 'Presence' 'Presence' 'Absence' 'Absence' 'Absence' 'Absence' 'Absence'\n",
      " 'Presence' 'Absence' 'Presence' 'Presence' 'Absence' 'Presence' 'Absence'\n",
      " 'Absence' 'Absence' 'Presence' 'Absence' 'Presence' 'Absence' 'Presence'\n",
      " 'Presence' 'Absence' 'Absence' 'Absence' 'Absence' 'Presence' 'Absence'\n",
      " 'Absence' 'Absence' 'Absence' 'Presence' 'Presence' 'Presence' 'Absence'\n",
      " 'Absence' 'Absence' 'Absence' 'Absence' 'Absence' 'Presence' 'Absence'\n",
      " 'Presence' 'Presence' 'Presence' 'Presence' 'Presence' 'Absence'\n",
      " 'Presence' 'Absence']\n"
     ]
    }
   ],
   "source": [
    "y = new_data2.iloc[:,-1].values\n",
    "print(y)"
   ]
  },
  {
   "cell_type": "code",
   "execution_count": 51,
   "id": "c24ef2a5",
   "metadata": {},
   "outputs": [],
   "source": [
    "seed = 12345\n",
    "algorithm_globals.random_seed = seed"
   ]
  },
  {
   "cell_type": "code",
   "execution_count": 52,
   "id": "ce3a7597",
   "metadata": {},
   "outputs": [],
   "source": [
    "#Splitting data\n",
    "n = 4\n",
    "RANDOM_STATE = 42\n",
    "data_dimension = 2\n",
    "\n",
    "X_train, X_test, y_train, y_test = train_test_split(X, y, test_size = 0.2, random_state = RANDOM_STATE)"
   ]
  },
  {
   "cell_type": "code",
   "execution_count": 53,
   "id": "5abb6366",
   "metadata": {},
   "outputs": [],
   "source": [
    "quantum_instance = QuantumInstance(Aer.get_backend('qasm_simulator'), shots=10000,\n",
    "                                   seed_simulator=seed, seed_transpiler=seed)"
   ]
  },
  {
   "cell_type": "code",
   "execution_count": 54,
   "id": "e2865b09",
   "metadata": {},
   "outputs": [
    {
     "data": {
      "image/png": "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\n",
      "text/plain": [
       "<Figure size 1858.5x288.96 with 1 Axes>"
      ]
     },
     "execution_count": 54,
     "metadata": {},
     "output_type": "execute_result"
    }
   ],
   "source": [
    "zz_feature_map = ZZFeatureMap(feature_dimension=data_dimension, reps=2, entanglement='linear')#linear\n",
    "zz_kernel = QuantumKernel(feature_map=zz_feature_map, quantum_instance=quantum_instance)\n",
    "\n",
    "zz_feature_map.decompose().draw(output=\"mpl\", scale=2)\n"
   ]
  },
  {
   "cell_type": "code",
   "execution_count": null,
   "id": "e3e174c5",
   "metadata": {},
   "outputs": [],
   "source": [
    "qsvc = QSVC()\n",
    "qsvc.quantum_kernel.quantum_instance = quantum_instance\n",
    "\n",
    "qsvc.fit(X_train, y_train)\n",
    "qsvc_score = qsvc.score(X_test, y_test)\n",
    "print(f'QSVC classification test score: {qsvc_score}')"
   ]
  },
  {
   "cell_type": "markdown",
   "id": "c98471be-a419-4d37-ba9e-501a39f31cb4",
   "metadata": {},
   "source": [
    "# Performance summary\n",
    "It's interesting to see the performance of the QSVM be higher because Quantum computing offers computation in a higher dimensional vector space, that is the Hilbert space. In addition changing the gates to be __different_gate_ showed__. \n",
    "\n",
    "The model does struggle with generalization, which is an area to be further explored. \n",
    "\n",
    "On using the QSV, optimistic performances were achieved,and ___reason___ suggests further improvements to be explored to reduce the qubit count and improve the test accuracy." 
    "# Future work\n",
    "There are still many more open questions to uncover. There are various constraints and variables involved in such an experiments for example, the size of dataset. If the data being used is inaccurate, it will affect the classification accuracy too."
    "We hope to explore if there are advantages of using QML in data classification in terms of speed and also the effects of different preprocessing tests."
   ]
  },
  {
   "cell_type": "code",
   "execution_count": null,
   "id": "391085d1",
   "metadata": {},
   "outputs": [],
   "source": [
    "qsvc.predict(X_train)"
   ]
  },
  {
   "cell_type": "markdown",
   "id": "c23f4d82-b197-4a6c-9d3e-36e0c70abc18",
   "metadata": {},
   "source": [
    "### References\n",
    "https://en.wikipedia.org/wiki/Quantum_neural_network\n",
    "https://qiskit.org/learn/\n",
    "https://medium.com/qiskit/building-a-quantum-variational-classifier-using-real-world-data-809c59eb17c2\n",
    "https://arxiv.org/abs/1803.07128\n",
    "M. Schuld and N. Killoran, Phys. Rev. Lett. 122, 040504 (2019)\n",
    "https://doi.org/10.1080/00107514.2014.964942\n",
    
   ]
  }
 ],
 "metadata": {
  "kernelspec": {
   "display_name": "Python 3 [Default]",
   "language": "python",
   "name": "python3_qbraid"
  },
  "language_info": {
   "codemirror_mode": {
    "name": "ipython",
    "version": 3
   },
   "file_extension": ".py",
   "mimetype": "text/x-python",
   "name": "python",
   "nbconvert_exporter": "python",
   "pygments_lexer": "ipython3",
   "version": "3.9.10"
  }
 },
 "nbformat": 4,
 "nbformat_minor": 5
}
